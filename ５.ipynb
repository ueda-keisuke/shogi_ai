{
  "nbformat": 4,
  "nbformat_minor": 0,
  "metadata": {
    "colab": {
      "name": "５.ipynb",
      "provenance": [],
      "authorship_tag": "ABX9TyOJmu+QMijwy27K5uq2UzNi",
      "include_colab_link": true
    },
    "kernelspec": {
      "name": "python3",
      "display_name": "Python 3"
    },
    "language_info": {
      "name": "python"
    }
  },
  "cells": [
    {
      "cell_type": "markdown",
      "metadata": {
        "id": "view-in-github",
        "colab_type": "text"
      },
      "source": [
        "<a href=\"https://colab.research.google.com/github/ueda-keisuke/shogi_ai/blob/main/%EF%BC%95.ipynb\" target=\"_parent\"><img src=\"https://colab.research.google.com/assets/colab-badge.svg\" alt=\"Open In Colab\"/></a>"
      ]
    },
    {
      "cell_type": "code",
      "execution_count": 1,
      "metadata": {
        "colab": {
          "base_uri": "https://localhost:8080/"
        },
        "id": "Sv7HU5-Wngwy",
        "outputId": "944a51ad-08f8-4336-83ac-878aa77e3e59"
      },
      "outputs": [
        {
          "output_type": "stream",
          "name": "stdout",
          "text": [
            "Looking in indexes: https://pypi.org/simple, https://us-python.pkg.dev/colab-wheels/public/simple/\n",
            "Collecting cshogi\n",
            "  Downloading cshogi-0.4.0-cp37-cp37m-manylinux_2_12_x86_64.manylinux2010_x86_64.whl (4.6 MB)\n",
            "\u001b[K     |████████████████████████████████| 4.6 MB 5.2 MB/s \n",
            "\u001b[?25hInstalling collected packages: cshogi\n",
            "Successfully installed cshogi-0.4.0\n"
          ]
        }
      ],
      "source": [
        "!pip install cshogi"
      ]
    },
    {
      "cell_type": "code",
      "source": [
        "import cshogi\n",
        "board = cshogi.Board()\n",
        "board"
      ],
      "metadata": {
        "colab": {
          "base_uri": "https://localhost:8080/",
          "height": 213
        },
        "id": "GW-BEg7rnmwy",
        "outputId": "02ae2d2c-e6b6-4844-9641-e9ba613be197"
      },
      "execution_count": 3,
      "outputs": [
        {
          "output_type": "execute_result",
          "data": {
            "text/plain": [
              "'  9  8  7  6  5  4  3  2  1\n",
              "P1-KY-KE-GI-KI-OU-KI-GI-KE-KY\n",
              "P2 * -HI *  *  *  *  * -KA * \n",
              "P3-FU-FU-FU-FU-FU-FU-FU-FU-FU\n",
              "P4 *  *  *  *  *  *  *  *  * \n",
              "P5 *  *  *  *  *  *  *  *  * \n",
              "P6 *  *  *  *  *  *  *  *  * \n",
              "P7+FU+FU+FU+FU+FU+FU+FU+FU+FU\n",
              "P8 * +KA *  *  *  *  * +HI * \n",
              "P9+KY+KE+GI+KI+OU+KI+GI+KE+KY\n",
              "+"
            ],
            "image/svg+xml": "<svg height=\"192.0\" version=\"1.1\" viewBox=\"0 0 230 192\" width=\"230.0\" xmlns=\"http://www.w3.org/2000/svg\" xmlns:xlink=\"http://www.w3.org/1999/xlink\"><defs><g id=\"black-pawn\"><text font-family=\"serif\" font-size=\"17\" text-anchor=\"middle\" x=\"10.5\" y=\"16.5\">&#27497;</text></g><g id=\"black-lance\"><text font-family=\"serif\" font-size=\"17\" text-anchor=\"middle\" x=\"10.5\" y=\"16.5\">&#39321;</text></g><g id=\"black-knight\"><text font-family=\"serif\" font-size=\"17\" text-anchor=\"middle\" x=\"10.5\" y=\"16.5\">&#26690;</text></g><g id=\"black-silver\"><text font-family=\"serif\" font-size=\"17\" text-anchor=\"middle\" x=\"10.5\" y=\"16.5\">&#37504;</text></g><g id=\"black-gold\"><text font-family=\"serif\" font-size=\"17\" text-anchor=\"middle\" x=\"10.5\" y=\"16.5\">&#37329;</text></g><g id=\"black-bishop\"><text font-family=\"serif\" font-size=\"17\" text-anchor=\"middle\" x=\"10.5\" y=\"16.5\">&#35282;</text></g><g id=\"black-rook\"><text font-family=\"serif\" font-size=\"17\" text-anchor=\"middle\" x=\"10.5\" y=\"16.5\">&#39131;</text></g><g id=\"black-king\"><text font-family=\"serif\" font-size=\"17\" text-anchor=\"middle\" x=\"10.5\" y=\"16.5\">&#29579;</text></g><g id=\"black-pro-pawn\"><text font-family=\"serif\" font-size=\"17\" text-anchor=\"middle\" x=\"10.5\" y=\"16.5\">&#12392;</text></g><g id=\"black-pro-lance\" transform=\"scale(1.0, 0.5)\"><text font-family=\"serif\" font-size=\"17\" text-anchor=\"middle\" x=\"10.5\" y=\"18\">&#25104;</text><text font-family=\"serif\" font-size=\"17\" text-anchor=\"middle\" x=\"10.5\" y=\"34\">&#39321;</text></g><g id=\"black-pro-knight\" transform=\"scale(1.0, 0.5)\"><text font-family=\"serif\" font-size=\"17\" text-anchor=\"middle\" x=\"10.5\" y=\"18\">&#25104;</text><text font-family=\"serif\" font-size=\"17\" text-anchor=\"middle\" x=\"10.5\" y=\"34\">&#26690;</text></g><g id=\"black-pro-silver\" transform=\"scale(1.0, 0.5)\"><text font-family=\"serif\" font-size=\"17\" text-anchor=\"middle\" x=\"10.5\" y=\"18\">&#25104;</text><text font-family=\"serif\" font-size=\"17\" text-anchor=\"middle\" x=\"10.5\" y=\"34\">&#37504;</text></g><g id=\"black-horse\"><text font-family=\"serif\" font-size=\"17\" text-anchor=\"middle\" x=\"10.5\" y=\"16.5\">&#39340;</text></g><g id=\"black-dragon\"><text font-family=\"serif\" font-size=\"17\" text-anchor=\"middle\" x=\"10.5\" y=\"16.5\">&#40845;</text></g><g id=\"white-pawn\" transform=\"rotate(180)\"><text font-family=\"serif\" font-size=\"17\" text-anchor=\"middle\" x=\"-10.5\" y=\"-3.5\">&#27497;</text></g><g id=\"white-lance\" transform=\"rotate(180)\"><text font-family=\"serif\" font-size=\"17\" text-anchor=\"middle\" x=\"-10.5\" y=\"-3.5\">&#39321;</text></g><g id=\"white-knight\" transform=\"rotate(180)\"><text font-family=\"serif\" font-size=\"17\" text-anchor=\"middle\" x=\"-10.5\" y=\"-3.5\">&#26690;</text></g><g id=\"white-silver\" transform=\"rotate(180)\"><text font-family=\"serif\" font-size=\"17\" text-anchor=\"middle\" x=\"-10.5\" y=\"-3.5\">&#37504;</text></g><g id=\"white-gold\" transform=\"rotate(180)\"><text font-family=\"serif\" font-size=\"17\" text-anchor=\"middle\" x=\"-10.5\" y=\"-3.5\">&#37329;</text></g><g id=\"white-bishop\" transform=\"rotate(180)\"><text font-family=\"serif\" font-size=\"17\" text-anchor=\"middle\" x=\"-10.5\" y=\"-3.5\">&#35282;</text></g><g id=\"white-rook\" transform=\"rotate(180)\"><text font-family=\"serif\" font-size=\"17\" text-anchor=\"middle\" x=\"-10.5\" y=\"-3.5\">&#39131;</text></g><g id=\"white-king\" transform=\"rotate(180)\"><text font-family=\"serif\" font-size=\"17\" text-anchor=\"middle\" x=\"-10.5\" y=\"-3.5\">&#29579;</text></g><g id=\"white-pro-pawn\" transform=\"rotate(180)\"><text font-family=\"serif\" font-size=\"17\" text-anchor=\"middle\" x=\"-10.5\" y=\"-3.5\">&#12392;</text></g><g id=\"white-pro-lance\" transform=\"scale(1.0, 0.5) rotate(180)\"><text font-family=\"serif\" font-size=\"17\" text-anchor=\"middle\" x=\"-10.5\" y=\"-22\">&#25104;</text><text font-family=\"serif\" font-size=\"17\" text-anchor=\"middle\" x=\"-10.5\" y=\"-6\">&#39321;</text></g><g id=\"white-pro-knight\" transform=\"scale(1.0, 0.5) rotate(180)\"><text font-family=\"serif\" font-size=\"17\" text-anchor=\"middle\" x=\"-10.5\" y=\"-22\">&#25104;</text><text font-family=\"serif\" font-size=\"17\" text-anchor=\"middle\" x=\"-10.5\" y=\"-6\">&#26690;</text></g><g id=\"white-pro-silver\" transform=\"scale(1.0, 0.5) rotate(180)\"><text font-family=\"serif\" font-size=\"17\" text-anchor=\"middle\" x=\"-10.5\" y=\"-22\">&#25104;</text><text font-family=\"serif\" font-size=\"17\" text-anchor=\"middle\" x=\"-10.5\" y=\"-6\">&#37504;</text></g><g id=\"white-horse\" transform=\"rotate(180)\"><text font-family=\"serif\" font-size=\"17\" text-anchor=\"middle\" x=\"-10.5\" y=\"-3.5\">&#39340;</text></g><g id=\"white-dragon\" transform=\"rotate(180)\"><text font-family=\"serif\" font-size=\"17\" text-anchor=\"middle\" x=\"-10.5\" y=\"-3.5\">&#40845;</text></g></defs><g stroke=\"black\"><rect fill=\"none\" height=\"181\" stroke-width=\"1.5\" width=\"181\" x=\"20\" y=\"10\" /><line stroke-width=\"1.0\" x1=\"20.5\" x2=\"200.5\" y1=\"30.5\" y2=\"30.5\" /><line stroke-width=\"1.0\" x1=\"20.5\" x2=\"200.5\" y1=\"50.5\" y2=\"50.5\" /><line stroke-width=\"1.0\" x1=\"20.5\" x2=\"200.5\" y1=\"70.5\" y2=\"70.5\" /><line stroke-width=\"1.0\" x1=\"20.5\" x2=\"200.5\" y1=\"90.5\" y2=\"90.5\" /><line stroke-width=\"1.0\" x1=\"20.5\" x2=\"200.5\" y1=\"110.5\" y2=\"110.5\" /><line stroke-width=\"1.0\" x1=\"20.5\" x2=\"200.5\" y1=\"130.5\" y2=\"130.5\" /><line stroke-width=\"1.0\" x1=\"20.5\" x2=\"200.5\" y1=\"150.5\" y2=\"150.5\" /><line stroke-width=\"1.0\" x1=\"20.5\" x2=\"200.5\" y1=\"170.5\" y2=\"170.5\" /><line stroke-width=\"1.0\" x1=\"40.5\" x2=\"40.5\" y1=\"10.5\" y2=\"190.5\" /><line stroke-width=\"1.0\" x1=\"60.5\" x2=\"60.5\" y1=\"10.5\" y2=\"190.5\" /><line stroke-width=\"1.0\" x1=\"80.5\" x2=\"80.5\" y1=\"10.5\" y2=\"190.5\" /><line stroke-width=\"1.0\" x1=\"100.5\" x2=\"100.5\" y1=\"10.5\" y2=\"190.5\" /><line stroke-width=\"1.0\" x1=\"120.5\" x2=\"120.5\" y1=\"10.5\" y2=\"190.5\" /><line stroke-width=\"1.0\" x1=\"140.5\" x2=\"140.5\" y1=\"10.5\" y2=\"190.5\" /><line stroke-width=\"1.0\" x1=\"160.5\" x2=\"160.5\" y1=\"10.5\" y2=\"190.5\" /><line stroke-width=\"1.0\" x1=\"180.5\" x2=\"180.5\" y1=\"10.5\" y2=\"190.5\" /></g><g><text font-family=\"serif\" font-size=\"9\" text-anchor=\"middle\" x=\"30.5\" y=\"8\">9</text><text font-family=\"serif\" font-size=\"9\" text-anchor=\"middle\" x=\"50.5\" y=\"8\">8</text><text font-family=\"serif\" font-size=\"9\" text-anchor=\"middle\" x=\"70.5\" y=\"8\">7</text><text font-family=\"serif\" font-size=\"9\" text-anchor=\"middle\" x=\"90.5\" y=\"8\">6</text><text font-family=\"serif\" font-size=\"9\" text-anchor=\"middle\" x=\"110.5\" y=\"8\">5</text><text font-family=\"serif\" font-size=\"9\" text-anchor=\"middle\" x=\"130.5\" y=\"8\">4</text><text font-family=\"serif\" font-size=\"9\" text-anchor=\"middle\" x=\"150.5\" y=\"8\">3</text><text font-family=\"serif\" font-size=\"9\" text-anchor=\"middle\" x=\"170.5\" y=\"8\">2</text><text font-family=\"serif\" font-size=\"9\" text-anchor=\"middle\" x=\"190.5\" y=\"8\">1</text><text font-family=\"serif\" font-size=\"9\" x=\"203.5\" y=\"23\">&#19968;</text><text font-family=\"serif\" font-size=\"9\" x=\"203.5\" y=\"43\">&#20108;</text><text font-family=\"serif\" font-size=\"9\" x=\"203.5\" y=\"63\">&#19977;</text><text font-family=\"serif\" font-size=\"9\" x=\"203.5\" y=\"83\">&#22235;</text><text font-family=\"serif\" font-size=\"9\" x=\"203.5\" y=\"103\">&#20116;</text><text font-family=\"serif\" font-size=\"9\" x=\"203.5\" y=\"123\">&#20845;</text><text font-family=\"serif\" font-size=\"9\" x=\"203.5\" y=\"143\">&#19971;</text><text font-family=\"serif\" font-size=\"9\" x=\"203.5\" y=\"163\">&#20843;</text><text font-family=\"serif\" font-size=\"9\" x=\"203.5\" y=\"183\">&#20061;</text></g><use x=\"180.5\" xlink:href=\"#white-lance\" y=\"10.5\" /><use x=\"180.5\" xlink:href=\"#white-pawn\" y=\"50.5\" /><use x=\"180.5\" xlink:href=\"#black-pawn\" y=\"130.5\" /><use x=\"180.5\" xlink:href=\"#black-lance\" y=\"170.5\" /><use x=\"160.5\" xlink:href=\"#white-knight\" y=\"10.5\" /><use x=\"160.5\" xlink:href=\"#white-bishop\" y=\"30.5\" /><use x=\"160.5\" xlink:href=\"#white-pawn\" y=\"50.5\" /><use x=\"160.5\" xlink:href=\"#black-pawn\" y=\"130.5\" /><use x=\"160.5\" xlink:href=\"#black-rook\" y=\"150.5\" /><use x=\"160.5\" xlink:href=\"#black-knight\" y=\"170.5\" /><use x=\"140.5\" xlink:href=\"#white-silver\" y=\"10.5\" /><use x=\"140.5\" xlink:href=\"#white-pawn\" y=\"50.5\" /><use x=\"140.5\" xlink:href=\"#black-pawn\" y=\"130.5\" /><use x=\"140.5\" xlink:href=\"#black-silver\" y=\"170.5\" /><use x=\"120.5\" xlink:href=\"#white-gold\" y=\"10.5\" /><use x=\"120.5\" xlink:href=\"#white-pawn\" y=\"50.5\" /><use x=\"120.5\" xlink:href=\"#black-pawn\" y=\"130.5\" /><use x=\"120.5\" xlink:href=\"#black-gold\" y=\"170.5\" /><use x=\"100.5\" xlink:href=\"#white-king\" y=\"10.5\" /><use x=\"100.5\" xlink:href=\"#white-pawn\" y=\"50.5\" /><use x=\"100.5\" xlink:href=\"#black-pawn\" y=\"130.5\" /><use x=\"100.5\" xlink:href=\"#black-king\" y=\"170.5\" /><use x=\"80.5\" xlink:href=\"#white-gold\" y=\"10.5\" /><use x=\"80.5\" xlink:href=\"#white-pawn\" y=\"50.5\" /><use x=\"80.5\" xlink:href=\"#black-pawn\" y=\"130.5\" /><use x=\"80.5\" xlink:href=\"#black-gold\" y=\"170.5\" /><use x=\"60.5\" xlink:href=\"#white-silver\" y=\"10.5\" /><use x=\"60.5\" xlink:href=\"#white-pawn\" y=\"50.5\" /><use x=\"60.5\" xlink:href=\"#black-pawn\" y=\"130.5\" /><use x=\"60.5\" xlink:href=\"#black-silver\" y=\"170.5\" /><use x=\"40.5\" xlink:href=\"#white-knight\" y=\"10.5\" /><use x=\"40.5\" xlink:href=\"#white-rook\" y=\"30.5\" /><use x=\"40.5\" xlink:href=\"#white-pawn\" y=\"50.5\" /><use x=\"40.5\" xlink:href=\"#black-pawn\" y=\"130.5\" /><use x=\"40.5\" xlink:href=\"#black-bishop\" y=\"150.5\" /><use x=\"40.5\" xlink:href=\"#black-knight\" y=\"170.5\" /><use x=\"20.5\" xlink:href=\"#white-lance\" y=\"10.5\" /><use x=\"20.5\" xlink:href=\"#white-pawn\" y=\"50.5\" /><use x=\"20.5\" xlink:href=\"#black-pawn\" y=\"130.5\" /><use x=\"20.5\" xlink:href=\"#black-lance\" y=\"170.5\" /><text font-family=\"serif\" font-size=\"14\" x=\"214\" y=\"176\">&#25163;</text><text font-family=\"serif\" font-size=\"14\" x=\"214\" y=\"162\">&#20808;</text><text font-family=\"serif\" font-size=\"14\" x=\"214\" y=\"148\">&#9751;</text><text font-family=\"serif\" font-size=\"14\" transform=\"rotate(180)\" x=\"-16\" y=\"-24\">&#25163;</text><text font-family=\"serif\" font-size=\"14\" transform=\"rotate(180)\" x=\"-16\" y=\"-38\">&#24460;</text><text font-family=\"serif\" font-size=\"14\" transform=\"rotate(180)\" x=\"-16\" y=\"-52\">&#9750;</text></svg>"
          },
          "metadata": {},
          "execution_count": 3
        }
      ]
    },
    {
      "cell_type": "code",
      "source": [
        "for move in board.legal_moves:\n",
        "  print(cshogi.move_to_usi(move))"
      ],
      "metadata": {
        "colab": {
          "base_uri": "https://localhost:8080/"
        },
        "id": "UpnnrypcnxTM",
        "outputId": "1b41e037-a530-476c-97e9-4a284f77473d"
      },
      "execution_count": 5,
      "outputs": [
        {
          "output_type": "stream",
          "name": "stdout",
          "text": [
            "1g1f\n",
            "2g2f\n",
            "3g3f\n",
            "4g4f\n",
            "5g5f\n",
            "6g6f\n",
            "7g7f\n",
            "8g8f\n",
            "9g9f\n",
            "1i1h\n",
            "9i9h\n",
            "3i3h\n",
            "3i4h\n",
            "7i6h\n",
            "7i7h\n",
            "2h1h\n",
            "2h3h\n",
            "2h4h\n",
            "2h5h\n",
            "2h6h\n",
            "2h7h\n",
            "4i3h\n",
            "4i4h\n",
            "4i5h\n",
            "6i5h\n",
            "6i6h\n",
            "6i7h\n",
            "5i4h\n",
            "5i5h\n",
            "5i6h\n"
          ]
        }
      ]
    },
    {
      "cell_type": "code",
      "source": [
        "move = list(board.legal_moves)[0]\n",
        "board.push(move)\n",
        "board"
      ],
      "metadata": {
        "colab": {
          "base_uri": "https://localhost:8080/",
          "height": 213
        },
        "id": "EukDNU7pn-I3",
        "outputId": "d0a1bf09-2b40-466a-b0fe-ca5cf2bc9658"
      },
      "execution_count": 6,
      "outputs": [
        {
          "output_type": "execute_result",
          "data": {
            "text/plain": [
              "'  9  8  7  6  5  4  3  2  1\n",
              "P1-KY-KE-GI-KI-OU-KI-GI-KE-KY\n",
              "P2 * -HI *  *  *  *  * -KA * \n",
              "P3-FU-FU-FU-FU-FU-FU-FU-FU-FU\n",
              "P4 *  *  *  *  *  *  *  *  * \n",
              "P5 *  *  *  *  *  *  *  *  * \n",
              "P6 *  *  *  *  *  *  *  * +FU\n",
              "P7+FU+FU+FU+FU+FU+FU+FU+FU * \n",
              "P8 * +KA *  *  *  *  * +HI * \n",
              "P9+KY+KE+GI+KI+OU+KI+GI+KE+KY\n",
              "-"
            ],
            "image/svg+xml": "<svg height=\"192.0\" version=\"1.1\" viewBox=\"0 0 230 192\" width=\"230.0\" xmlns=\"http://www.w3.org/2000/svg\" xmlns:xlink=\"http://www.w3.org/1999/xlink\"><defs><g id=\"black-pawn\"><text font-family=\"serif\" font-size=\"17\" text-anchor=\"middle\" x=\"10.5\" y=\"16.5\">&#27497;</text></g><g id=\"black-lance\"><text font-family=\"serif\" font-size=\"17\" text-anchor=\"middle\" x=\"10.5\" y=\"16.5\">&#39321;</text></g><g id=\"black-knight\"><text font-family=\"serif\" font-size=\"17\" text-anchor=\"middle\" x=\"10.5\" y=\"16.5\">&#26690;</text></g><g id=\"black-silver\"><text font-family=\"serif\" font-size=\"17\" text-anchor=\"middle\" x=\"10.5\" y=\"16.5\">&#37504;</text></g><g id=\"black-gold\"><text font-family=\"serif\" font-size=\"17\" text-anchor=\"middle\" x=\"10.5\" y=\"16.5\">&#37329;</text></g><g id=\"black-bishop\"><text font-family=\"serif\" font-size=\"17\" text-anchor=\"middle\" x=\"10.5\" y=\"16.5\">&#35282;</text></g><g id=\"black-rook\"><text font-family=\"serif\" font-size=\"17\" text-anchor=\"middle\" x=\"10.5\" y=\"16.5\">&#39131;</text></g><g id=\"black-king\"><text font-family=\"serif\" font-size=\"17\" text-anchor=\"middle\" x=\"10.5\" y=\"16.5\">&#29579;</text></g><g id=\"black-pro-pawn\"><text font-family=\"serif\" font-size=\"17\" text-anchor=\"middle\" x=\"10.5\" y=\"16.5\">&#12392;</text></g><g id=\"black-pro-lance\" transform=\"scale(1.0, 0.5)\"><text font-family=\"serif\" font-size=\"17\" text-anchor=\"middle\" x=\"10.5\" y=\"18\">&#25104;</text><text font-family=\"serif\" font-size=\"17\" text-anchor=\"middle\" x=\"10.5\" y=\"34\">&#39321;</text></g><g id=\"black-pro-knight\" transform=\"scale(1.0, 0.5)\"><text font-family=\"serif\" font-size=\"17\" text-anchor=\"middle\" x=\"10.5\" y=\"18\">&#25104;</text><text font-family=\"serif\" font-size=\"17\" text-anchor=\"middle\" x=\"10.5\" y=\"34\">&#26690;</text></g><g id=\"black-pro-silver\" transform=\"scale(1.0, 0.5)\"><text font-family=\"serif\" font-size=\"17\" text-anchor=\"middle\" x=\"10.5\" y=\"18\">&#25104;</text><text font-family=\"serif\" font-size=\"17\" text-anchor=\"middle\" x=\"10.5\" y=\"34\">&#37504;</text></g><g id=\"black-horse\"><text font-family=\"serif\" font-size=\"17\" text-anchor=\"middle\" x=\"10.5\" y=\"16.5\">&#39340;</text></g><g id=\"black-dragon\"><text font-family=\"serif\" font-size=\"17\" text-anchor=\"middle\" x=\"10.5\" y=\"16.5\">&#40845;</text></g><g id=\"white-pawn\" transform=\"rotate(180)\"><text font-family=\"serif\" font-size=\"17\" text-anchor=\"middle\" x=\"-10.5\" y=\"-3.5\">&#27497;</text></g><g id=\"white-lance\" transform=\"rotate(180)\"><text font-family=\"serif\" font-size=\"17\" text-anchor=\"middle\" x=\"-10.5\" y=\"-3.5\">&#39321;</text></g><g id=\"white-knight\" transform=\"rotate(180)\"><text font-family=\"serif\" font-size=\"17\" text-anchor=\"middle\" x=\"-10.5\" y=\"-3.5\">&#26690;</text></g><g id=\"white-silver\" transform=\"rotate(180)\"><text font-family=\"serif\" font-size=\"17\" text-anchor=\"middle\" x=\"-10.5\" y=\"-3.5\">&#37504;</text></g><g id=\"white-gold\" transform=\"rotate(180)\"><text font-family=\"serif\" font-size=\"17\" text-anchor=\"middle\" x=\"-10.5\" y=\"-3.5\">&#37329;</text></g><g id=\"white-bishop\" transform=\"rotate(180)\"><text font-family=\"serif\" font-size=\"17\" text-anchor=\"middle\" x=\"-10.5\" y=\"-3.5\">&#35282;</text></g><g id=\"white-rook\" transform=\"rotate(180)\"><text font-family=\"serif\" font-size=\"17\" text-anchor=\"middle\" x=\"-10.5\" y=\"-3.5\">&#39131;</text></g><g id=\"white-king\" transform=\"rotate(180)\"><text font-family=\"serif\" font-size=\"17\" text-anchor=\"middle\" x=\"-10.5\" y=\"-3.5\">&#29579;</text></g><g id=\"white-pro-pawn\" transform=\"rotate(180)\"><text font-family=\"serif\" font-size=\"17\" text-anchor=\"middle\" x=\"-10.5\" y=\"-3.5\">&#12392;</text></g><g id=\"white-pro-lance\" transform=\"scale(1.0, 0.5) rotate(180)\"><text font-family=\"serif\" font-size=\"17\" text-anchor=\"middle\" x=\"-10.5\" y=\"-22\">&#25104;</text><text font-family=\"serif\" font-size=\"17\" text-anchor=\"middle\" x=\"-10.5\" y=\"-6\">&#39321;</text></g><g id=\"white-pro-knight\" transform=\"scale(1.0, 0.5) rotate(180)\"><text font-family=\"serif\" font-size=\"17\" text-anchor=\"middle\" x=\"-10.5\" y=\"-22\">&#25104;</text><text font-family=\"serif\" font-size=\"17\" text-anchor=\"middle\" x=\"-10.5\" y=\"-6\">&#26690;</text></g><g id=\"white-pro-silver\" transform=\"scale(1.0, 0.5) rotate(180)\"><text font-family=\"serif\" font-size=\"17\" text-anchor=\"middle\" x=\"-10.5\" y=\"-22\">&#25104;</text><text font-family=\"serif\" font-size=\"17\" text-anchor=\"middle\" x=\"-10.5\" y=\"-6\">&#37504;</text></g><g id=\"white-horse\" transform=\"rotate(180)\"><text font-family=\"serif\" font-size=\"17\" text-anchor=\"middle\" x=\"-10.5\" y=\"-3.5\">&#39340;</text></g><g id=\"white-dragon\" transform=\"rotate(180)\"><text font-family=\"serif\" font-size=\"17\" text-anchor=\"middle\" x=\"-10.5\" y=\"-3.5\">&#40845;</text></g></defs><rect fill=\"#f6b94d\" height=\"20\" width=\"20\" x=\"180.5\" y=\"110.5\" /><rect fill=\"#fdf0e3\" height=\"20\" width=\"20\" x=\"180.5\" y=\"130.5\" /><g stroke=\"black\"><rect fill=\"none\" height=\"181\" stroke-width=\"1.5\" width=\"181\" x=\"20\" y=\"10\" /><line stroke-width=\"1.0\" x1=\"20.5\" x2=\"200.5\" y1=\"30.5\" y2=\"30.5\" /><line stroke-width=\"1.0\" x1=\"20.5\" x2=\"200.5\" y1=\"50.5\" y2=\"50.5\" /><line stroke-width=\"1.0\" x1=\"20.5\" x2=\"200.5\" y1=\"70.5\" y2=\"70.5\" /><line stroke-width=\"1.0\" x1=\"20.5\" x2=\"200.5\" y1=\"90.5\" y2=\"90.5\" /><line stroke-width=\"1.0\" x1=\"20.5\" x2=\"200.5\" y1=\"110.5\" y2=\"110.5\" /><line stroke-width=\"1.0\" x1=\"20.5\" x2=\"200.5\" y1=\"130.5\" y2=\"130.5\" /><line stroke-width=\"1.0\" x1=\"20.5\" x2=\"200.5\" y1=\"150.5\" y2=\"150.5\" /><line stroke-width=\"1.0\" x1=\"20.5\" x2=\"200.5\" y1=\"170.5\" y2=\"170.5\" /><line stroke-width=\"1.0\" x1=\"40.5\" x2=\"40.5\" y1=\"10.5\" y2=\"190.5\" /><line stroke-width=\"1.0\" x1=\"60.5\" x2=\"60.5\" y1=\"10.5\" y2=\"190.5\" /><line stroke-width=\"1.0\" x1=\"80.5\" x2=\"80.5\" y1=\"10.5\" y2=\"190.5\" /><line stroke-width=\"1.0\" x1=\"100.5\" x2=\"100.5\" y1=\"10.5\" y2=\"190.5\" /><line stroke-width=\"1.0\" x1=\"120.5\" x2=\"120.5\" y1=\"10.5\" y2=\"190.5\" /><line stroke-width=\"1.0\" x1=\"140.5\" x2=\"140.5\" y1=\"10.5\" y2=\"190.5\" /><line stroke-width=\"1.0\" x1=\"160.5\" x2=\"160.5\" y1=\"10.5\" y2=\"190.5\" /><line stroke-width=\"1.0\" x1=\"180.5\" x2=\"180.5\" y1=\"10.5\" y2=\"190.5\" /></g><g><text font-family=\"serif\" font-size=\"9\" text-anchor=\"middle\" x=\"30.5\" y=\"8\">9</text><text font-family=\"serif\" font-size=\"9\" text-anchor=\"middle\" x=\"50.5\" y=\"8\">8</text><text font-family=\"serif\" font-size=\"9\" text-anchor=\"middle\" x=\"70.5\" y=\"8\">7</text><text font-family=\"serif\" font-size=\"9\" text-anchor=\"middle\" x=\"90.5\" y=\"8\">6</text><text font-family=\"serif\" font-size=\"9\" text-anchor=\"middle\" x=\"110.5\" y=\"8\">5</text><text font-family=\"serif\" font-size=\"9\" text-anchor=\"middle\" x=\"130.5\" y=\"8\">4</text><text font-family=\"serif\" font-size=\"9\" text-anchor=\"middle\" x=\"150.5\" y=\"8\">3</text><text font-family=\"serif\" font-size=\"9\" text-anchor=\"middle\" x=\"170.5\" y=\"8\">2</text><text font-family=\"serif\" font-size=\"9\" text-anchor=\"middle\" x=\"190.5\" y=\"8\">1</text><text font-family=\"serif\" font-size=\"9\" x=\"203.5\" y=\"23\">&#19968;</text><text font-family=\"serif\" font-size=\"9\" x=\"203.5\" y=\"43\">&#20108;</text><text font-family=\"serif\" font-size=\"9\" x=\"203.5\" y=\"63\">&#19977;</text><text font-family=\"serif\" font-size=\"9\" x=\"203.5\" y=\"83\">&#22235;</text><text font-family=\"serif\" font-size=\"9\" x=\"203.5\" y=\"103\">&#20116;</text><text font-family=\"serif\" font-size=\"9\" x=\"203.5\" y=\"123\">&#20845;</text><text font-family=\"serif\" font-size=\"9\" x=\"203.5\" y=\"143\">&#19971;</text><text font-family=\"serif\" font-size=\"9\" x=\"203.5\" y=\"163\">&#20843;</text><text font-family=\"serif\" font-size=\"9\" x=\"203.5\" y=\"183\">&#20061;</text></g><use x=\"180.5\" xlink:href=\"#white-lance\" y=\"10.5\" /><use x=\"180.5\" xlink:href=\"#white-pawn\" y=\"50.5\" /><use x=\"180.5\" xlink:href=\"#black-pawn\" y=\"110.5\" /><use x=\"180.5\" xlink:href=\"#black-lance\" y=\"170.5\" /><use x=\"160.5\" xlink:href=\"#white-knight\" y=\"10.5\" /><use x=\"160.5\" xlink:href=\"#white-bishop\" y=\"30.5\" /><use x=\"160.5\" xlink:href=\"#white-pawn\" y=\"50.5\" /><use x=\"160.5\" xlink:href=\"#black-pawn\" y=\"130.5\" /><use x=\"160.5\" xlink:href=\"#black-rook\" y=\"150.5\" /><use x=\"160.5\" xlink:href=\"#black-knight\" y=\"170.5\" /><use x=\"140.5\" xlink:href=\"#white-silver\" y=\"10.5\" /><use x=\"140.5\" xlink:href=\"#white-pawn\" y=\"50.5\" /><use x=\"140.5\" xlink:href=\"#black-pawn\" y=\"130.5\" /><use x=\"140.5\" xlink:href=\"#black-silver\" y=\"170.5\" /><use x=\"120.5\" xlink:href=\"#white-gold\" y=\"10.5\" /><use x=\"120.5\" xlink:href=\"#white-pawn\" y=\"50.5\" /><use x=\"120.5\" xlink:href=\"#black-pawn\" y=\"130.5\" /><use x=\"120.5\" xlink:href=\"#black-gold\" y=\"170.5\" /><use x=\"100.5\" xlink:href=\"#white-king\" y=\"10.5\" /><use x=\"100.5\" xlink:href=\"#white-pawn\" y=\"50.5\" /><use x=\"100.5\" xlink:href=\"#black-pawn\" y=\"130.5\" /><use x=\"100.5\" xlink:href=\"#black-king\" y=\"170.5\" /><use x=\"80.5\" xlink:href=\"#white-gold\" y=\"10.5\" /><use x=\"80.5\" xlink:href=\"#white-pawn\" y=\"50.5\" /><use x=\"80.5\" xlink:href=\"#black-pawn\" y=\"130.5\" /><use x=\"80.5\" xlink:href=\"#black-gold\" y=\"170.5\" /><use x=\"60.5\" xlink:href=\"#white-silver\" y=\"10.5\" /><use x=\"60.5\" xlink:href=\"#white-pawn\" y=\"50.5\" /><use x=\"60.5\" xlink:href=\"#black-pawn\" y=\"130.5\" /><use x=\"60.5\" xlink:href=\"#black-silver\" y=\"170.5\" /><use x=\"40.5\" xlink:href=\"#white-knight\" y=\"10.5\" /><use x=\"40.5\" xlink:href=\"#white-rook\" y=\"30.5\" /><use x=\"40.5\" xlink:href=\"#white-pawn\" y=\"50.5\" /><use x=\"40.5\" xlink:href=\"#black-pawn\" y=\"130.5\" /><use x=\"40.5\" xlink:href=\"#black-bishop\" y=\"150.5\" /><use x=\"40.5\" xlink:href=\"#black-knight\" y=\"170.5\" /><use x=\"20.5\" xlink:href=\"#white-lance\" y=\"10.5\" /><use x=\"20.5\" xlink:href=\"#white-pawn\" y=\"50.5\" /><use x=\"20.5\" xlink:href=\"#black-pawn\" y=\"130.5\" /><use x=\"20.5\" xlink:href=\"#black-lance\" y=\"170.5\" /><text font-family=\"serif\" font-size=\"14\" x=\"214\" y=\"176\">&#25163;</text><text font-family=\"serif\" font-size=\"14\" x=\"214\" y=\"162\">&#20808;</text><text font-family=\"serif\" font-size=\"14\" x=\"214\" y=\"148\">&#9751;</text><text font-family=\"serif\" font-size=\"14\" transform=\"rotate(180)\" x=\"-16\" y=\"-24\">&#25163;</text><text font-family=\"serif\" font-size=\"14\" transform=\"rotate(180)\" x=\"-16\" y=\"-38\">&#24460;</text><text font-family=\"serif\" font-size=\"14\" transform=\"rotate(180)\" x=\"-16\" y=\"-52\">&#9750;</text></svg>"
          },
          "metadata": {},
          "execution_count": 6
        }
      ]
    },
    {
      "cell_type": "code",
      "source": [
        "move = board.push_usi('7g7f')\n",
        "board"
      ],
      "metadata": {
        "colab": {
          "base_uri": "https://localhost:8080/",
          "height": 213
        },
        "id": "Mo8u1nkhoLsD",
        "outputId": "629eae79-95bf-4bc8-c230-059a3da077bf"
      },
      "execution_count": 7,
      "outputs": [
        {
          "output_type": "execute_result",
          "data": {
            "text/plain": [
              "'  9  8  7  6  5  4  3  2  1\n",
              "P1-KY-KE-GI-KI-OU-KI-GI-KE-KY\n",
              "P2 * -HI *  *  *  *  * -KA * \n",
              "P3-FU-FU-FU-FU-FU-FU-FU-FU-FU\n",
              "P4 *  *  *  *  *  *  *  *  * \n",
              "P5 *  *  *  *  *  *  *  *  * \n",
              "P6 *  *  *  *  *  *  *  * +FU\n",
              "P7+FU+FU+FU+FU+FU+FU+FU+FU * \n",
              "P8 * +KA *  *  *  *  * +HI * \n",
              "P9+KY+KE+GI+KI+OU+KI+GI+KE+KY\n",
              "-"
            ],
            "image/svg+xml": "<svg height=\"192.0\" version=\"1.1\" viewBox=\"0 0 230 192\" width=\"230.0\" xmlns=\"http://www.w3.org/2000/svg\" xmlns:xlink=\"http://www.w3.org/1999/xlink\"><defs><g id=\"black-pawn\"><text font-family=\"serif\" font-size=\"17\" text-anchor=\"middle\" x=\"10.5\" y=\"16.5\">&#27497;</text></g><g id=\"black-lance\"><text font-family=\"serif\" font-size=\"17\" text-anchor=\"middle\" x=\"10.5\" y=\"16.5\">&#39321;</text></g><g id=\"black-knight\"><text font-family=\"serif\" font-size=\"17\" text-anchor=\"middle\" x=\"10.5\" y=\"16.5\">&#26690;</text></g><g id=\"black-silver\"><text font-family=\"serif\" font-size=\"17\" text-anchor=\"middle\" x=\"10.5\" y=\"16.5\">&#37504;</text></g><g id=\"black-gold\"><text font-family=\"serif\" font-size=\"17\" text-anchor=\"middle\" x=\"10.5\" y=\"16.5\">&#37329;</text></g><g id=\"black-bishop\"><text font-family=\"serif\" font-size=\"17\" text-anchor=\"middle\" x=\"10.5\" y=\"16.5\">&#35282;</text></g><g id=\"black-rook\"><text font-family=\"serif\" font-size=\"17\" text-anchor=\"middle\" x=\"10.5\" y=\"16.5\">&#39131;</text></g><g id=\"black-king\"><text font-family=\"serif\" font-size=\"17\" text-anchor=\"middle\" x=\"10.5\" y=\"16.5\">&#29579;</text></g><g id=\"black-pro-pawn\"><text font-family=\"serif\" font-size=\"17\" text-anchor=\"middle\" x=\"10.5\" y=\"16.5\">&#12392;</text></g><g id=\"black-pro-lance\" transform=\"scale(1.0, 0.5)\"><text font-family=\"serif\" font-size=\"17\" text-anchor=\"middle\" x=\"10.5\" y=\"18\">&#25104;</text><text font-family=\"serif\" font-size=\"17\" text-anchor=\"middle\" x=\"10.5\" y=\"34\">&#39321;</text></g><g id=\"black-pro-knight\" transform=\"scale(1.0, 0.5)\"><text font-family=\"serif\" font-size=\"17\" text-anchor=\"middle\" x=\"10.5\" y=\"18\">&#25104;</text><text font-family=\"serif\" font-size=\"17\" text-anchor=\"middle\" x=\"10.5\" y=\"34\">&#26690;</text></g><g id=\"black-pro-silver\" transform=\"scale(1.0, 0.5)\"><text font-family=\"serif\" font-size=\"17\" text-anchor=\"middle\" x=\"10.5\" y=\"18\">&#25104;</text><text font-family=\"serif\" font-size=\"17\" text-anchor=\"middle\" x=\"10.5\" y=\"34\">&#37504;</text></g><g id=\"black-horse\"><text font-family=\"serif\" font-size=\"17\" text-anchor=\"middle\" x=\"10.5\" y=\"16.5\">&#39340;</text></g><g id=\"black-dragon\"><text font-family=\"serif\" font-size=\"17\" text-anchor=\"middle\" x=\"10.5\" y=\"16.5\">&#40845;</text></g><g id=\"white-pawn\" transform=\"rotate(180)\"><text font-family=\"serif\" font-size=\"17\" text-anchor=\"middle\" x=\"-10.5\" y=\"-3.5\">&#27497;</text></g><g id=\"white-lance\" transform=\"rotate(180)\"><text font-family=\"serif\" font-size=\"17\" text-anchor=\"middle\" x=\"-10.5\" y=\"-3.5\">&#39321;</text></g><g id=\"white-knight\" transform=\"rotate(180)\"><text font-family=\"serif\" font-size=\"17\" text-anchor=\"middle\" x=\"-10.5\" y=\"-3.5\">&#26690;</text></g><g id=\"white-silver\" transform=\"rotate(180)\"><text font-family=\"serif\" font-size=\"17\" text-anchor=\"middle\" x=\"-10.5\" y=\"-3.5\">&#37504;</text></g><g id=\"white-gold\" transform=\"rotate(180)\"><text font-family=\"serif\" font-size=\"17\" text-anchor=\"middle\" x=\"-10.5\" y=\"-3.5\">&#37329;</text></g><g id=\"white-bishop\" transform=\"rotate(180)\"><text font-family=\"serif\" font-size=\"17\" text-anchor=\"middle\" x=\"-10.5\" y=\"-3.5\">&#35282;</text></g><g id=\"white-rook\" transform=\"rotate(180)\"><text font-family=\"serif\" font-size=\"17\" text-anchor=\"middle\" x=\"-10.5\" y=\"-3.5\">&#39131;</text></g><g id=\"white-king\" transform=\"rotate(180)\"><text font-family=\"serif\" font-size=\"17\" text-anchor=\"middle\" x=\"-10.5\" y=\"-3.5\">&#29579;</text></g><g id=\"white-pro-pawn\" transform=\"rotate(180)\"><text font-family=\"serif\" font-size=\"17\" text-anchor=\"middle\" x=\"-10.5\" y=\"-3.5\">&#12392;</text></g><g id=\"white-pro-lance\" transform=\"scale(1.0, 0.5) rotate(180)\"><text font-family=\"serif\" font-size=\"17\" text-anchor=\"middle\" x=\"-10.5\" y=\"-22\">&#25104;</text><text font-family=\"serif\" font-size=\"17\" text-anchor=\"middle\" x=\"-10.5\" y=\"-6\">&#39321;</text></g><g id=\"white-pro-knight\" transform=\"scale(1.0, 0.5) rotate(180)\"><text font-family=\"serif\" font-size=\"17\" text-anchor=\"middle\" x=\"-10.5\" y=\"-22\">&#25104;</text><text font-family=\"serif\" font-size=\"17\" text-anchor=\"middle\" x=\"-10.5\" y=\"-6\">&#26690;</text></g><g id=\"white-pro-silver\" transform=\"scale(1.0, 0.5) rotate(180)\"><text font-family=\"serif\" font-size=\"17\" text-anchor=\"middle\" x=\"-10.5\" y=\"-22\">&#25104;</text><text font-family=\"serif\" font-size=\"17\" text-anchor=\"middle\" x=\"-10.5\" y=\"-6\">&#37504;</text></g><g id=\"white-horse\" transform=\"rotate(180)\"><text font-family=\"serif\" font-size=\"17\" text-anchor=\"middle\" x=\"-10.5\" y=\"-3.5\">&#39340;</text></g><g id=\"white-dragon\" transform=\"rotate(180)\"><text font-family=\"serif\" font-size=\"17\" text-anchor=\"middle\" x=\"-10.5\" y=\"-3.5\">&#40845;</text></g></defs><rect fill=\"#f6b94d\" height=\"20\" width=\"20\" x=\"180.5\" y=\"110.5\" /><rect fill=\"#fdf0e3\" height=\"20\" width=\"20\" x=\"180.5\" y=\"130.5\" /><g stroke=\"black\"><rect fill=\"none\" height=\"181\" stroke-width=\"1.5\" width=\"181\" x=\"20\" y=\"10\" /><line stroke-width=\"1.0\" x1=\"20.5\" x2=\"200.5\" y1=\"30.5\" y2=\"30.5\" /><line stroke-width=\"1.0\" x1=\"20.5\" x2=\"200.5\" y1=\"50.5\" y2=\"50.5\" /><line stroke-width=\"1.0\" x1=\"20.5\" x2=\"200.5\" y1=\"70.5\" y2=\"70.5\" /><line stroke-width=\"1.0\" x1=\"20.5\" x2=\"200.5\" y1=\"90.5\" y2=\"90.5\" /><line stroke-width=\"1.0\" x1=\"20.5\" x2=\"200.5\" y1=\"110.5\" y2=\"110.5\" /><line stroke-width=\"1.0\" x1=\"20.5\" x2=\"200.5\" y1=\"130.5\" y2=\"130.5\" /><line stroke-width=\"1.0\" x1=\"20.5\" x2=\"200.5\" y1=\"150.5\" y2=\"150.5\" /><line stroke-width=\"1.0\" x1=\"20.5\" x2=\"200.5\" y1=\"170.5\" y2=\"170.5\" /><line stroke-width=\"1.0\" x1=\"40.5\" x2=\"40.5\" y1=\"10.5\" y2=\"190.5\" /><line stroke-width=\"1.0\" x1=\"60.5\" x2=\"60.5\" y1=\"10.5\" y2=\"190.5\" /><line stroke-width=\"1.0\" x1=\"80.5\" x2=\"80.5\" y1=\"10.5\" y2=\"190.5\" /><line stroke-width=\"1.0\" x1=\"100.5\" x2=\"100.5\" y1=\"10.5\" y2=\"190.5\" /><line stroke-width=\"1.0\" x1=\"120.5\" x2=\"120.5\" y1=\"10.5\" y2=\"190.5\" /><line stroke-width=\"1.0\" x1=\"140.5\" x2=\"140.5\" y1=\"10.5\" y2=\"190.5\" /><line stroke-width=\"1.0\" x1=\"160.5\" x2=\"160.5\" y1=\"10.5\" y2=\"190.5\" /><line stroke-width=\"1.0\" x1=\"180.5\" x2=\"180.5\" y1=\"10.5\" y2=\"190.5\" /></g><g><text font-family=\"serif\" font-size=\"9\" text-anchor=\"middle\" x=\"30.5\" y=\"8\">9</text><text font-family=\"serif\" font-size=\"9\" text-anchor=\"middle\" x=\"50.5\" y=\"8\">8</text><text font-family=\"serif\" font-size=\"9\" text-anchor=\"middle\" x=\"70.5\" y=\"8\">7</text><text font-family=\"serif\" font-size=\"9\" text-anchor=\"middle\" x=\"90.5\" y=\"8\">6</text><text font-family=\"serif\" font-size=\"9\" text-anchor=\"middle\" x=\"110.5\" y=\"8\">5</text><text font-family=\"serif\" font-size=\"9\" text-anchor=\"middle\" x=\"130.5\" y=\"8\">4</text><text font-family=\"serif\" font-size=\"9\" text-anchor=\"middle\" x=\"150.5\" y=\"8\">3</text><text font-family=\"serif\" font-size=\"9\" text-anchor=\"middle\" x=\"170.5\" y=\"8\">2</text><text font-family=\"serif\" font-size=\"9\" text-anchor=\"middle\" x=\"190.5\" y=\"8\">1</text><text font-family=\"serif\" font-size=\"9\" x=\"203.5\" y=\"23\">&#19968;</text><text font-family=\"serif\" font-size=\"9\" x=\"203.5\" y=\"43\">&#20108;</text><text font-family=\"serif\" font-size=\"9\" x=\"203.5\" y=\"63\">&#19977;</text><text font-family=\"serif\" font-size=\"9\" x=\"203.5\" y=\"83\">&#22235;</text><text font-family=\"serif\" font-size=\"9\" x=\"203.5\" y=\"103\">&#20116;</text><text font-family=\"serif\" font-size=\"9\" x=\"203.5\" y=\"123\">&#20845;</text><text font-family=\"serif\" font-size=\"9\" x=\"203.5\" y=\"143\">&#19971;</text><text font-family=\"serif\" font-size=\"9\" x=\"203.5\" y=\"163\">&#20843;</text><text font-family=\"serif\" font-size=\"9\" x=\"203.5\" y=\"183\">&#20061;</text></g><use x=\"180.5\" xlink:href=\"#white-lance\" y=\"10.5\" /><use x=\"180.5\" xlink:href=\"#white-pawn\" y=\"50.5\" /><use x=\"180.5\" xlink:href=\"#black-pawn\" y=\"110.5\" /><use x=\"180.5\" xlink:href=\"#black-lance\" y=\"170.5\" /><use x=\"160.5\" xlink:href=\"#white-knight\" y=\"10.5\" /><use x=\"160.5\" xlink:href=\"#white-bishop\" y=\"30.5\" /><use x=\"160.5\" xlink:href=\"#white-pawn\" y=\"50.5\" /><use x=\"160.5\" xlink:href=\"#black-pawn\" y=\"130.5\" /><use x=\"160.5\" xlink:href=\"#black-rook\" y=\"150.5\" /><use x=\"160.5\" xlink:href=\"#black-knight\" y=\"170.5\" /><use x=\"140.5\" xlink:href=\"#white-silver\" y=\"10.5\" /><use x=\"140.5\" xlink:href=\"#white-pawn\" y=\"50.5\" /><use x=\"140.5\" xlink:href=\"#black-pawn\" y=\"130.5\" /><use x=\"140.5\" xlink:href=\"#black-silver\" y=\"170.5\" /><use x=\"120.5\" xlink:href=\"#white-gold\" y=\"10.5\" /><use x=\"120.5\" xlink:href=\"#white-pawn\" y=\"50.5\" /><use x=\"120.5\" xlink:href=\"#black-pawn\" y=\"130.5\" /><use x=\"120.5\" xlink:href=\"#black-gold\" y=\"170.5\" /><use x=\"100.5\" xlink:href=\"#white-king\" y=\"10.5\" /><use x=\"100.5\" xlink:href=\"#white-pawn\" y=\"50.5\" /><use x=\"100.5\" xlink:href=\"#black-pawn\" y=\"130.5\" /><use x=\"100.5\" xlink:href=\"#black-king\" y=\"170.5\" /><use x=\"80.5\" xlink:href=\"#white-gold\" y=\"10.5\" /><use x=\"80.5\" xlink:href=\"#white-pawn\" y=\"50.5\" /><use x=\"80.5\" xlink:href=\"#black-pawn\" y=\"130.5\" /><use x=\"80.5\" xlink:href=\"#black-gold\" y=\"170.5\" /><use x=\"60.5\" xlink:href=\"#white-silver\" y=\"10.5\" /><use x=\"60.5\" xlink:href=\"#white-pawn\" y=\"50.5\" /><use x=\"60.5\" xlink:href=\"#black-pawn\" y=\"130.5\" /><use x=\"60.5\" xlink:href=\"#black-silver\" y=\"170.5\" /><use x=\"40.5\" xlink:href=\"#white-knight\" y=\"10.5\" /><use x=\"40.5\" xlink:href=\"#white-rook\" y=\"30.5\" /><use x=\"40.5\" xlink:href=\"#white-pawn\" y=\"50.5\" /><use x=\"40.5\" xlink:href=\"#black-pawn\" y=\"130.5\" /><use x=\"40.5\" xlink:href=\"#black-bishop\" y=\"150.5\" /><use x=\"40.5\" xlink:href=\"#black-knight\" y=\"170.5\" /><use x=\"20.5\" xlink:href=\"#white-lance\" y=\"10.5\" /><use x=\"20.5\" xlink:href=\"#white-pawn\" y=\"50.5\" /><use x=\"20.5\" xlink:href=\"#black-pawn\" y=\"130.5\" /><use x=\"20.5\" xlink:href=\"#black-lance\" y=\"170.5\" /><text font-family=\"serif\" font-size=\"14\" x=\"214\" y=\"176\">&#25163;</text><text font-family=\"serif\" font-size=\"14\" x=\"214\" y=\"162\">&#20808;</text><text font-family=\"serif\" font-size=\"14\" x=\"214\" y=\"148\">&#9751;</text><text font-family=\"serif\" font-size=\"14\" transform=\"rotate(180)\" x=\"-16\" y=\"-24\">&#25163;</text><text font-family=\"serif\" font-size=\"14\" transform=\"rotate(180)\" x=\"-16\" y=\"-38\">&#24460;</text><text font-family=\"serif\" font-size=\"14\" transform=\"rotate(180)\" x=\"-16\" y=\"-52\">&#9750;</text></svg>"
          },
          "metadata": {},
          "execution_count": 7
        }
      ]
    },
    {
      "cell_type": "code",
      "source": [
        "board.pop()"
      ],
      "metadata": {
        "id": "CmqQkjj_oZxY"
      },
      "execution_count": 8,
      "outputs": []
    },
    {
      "cell_type": "code",
      "source": [
        "board"
      ],
      "metadata": {
        "colab": {
          "base_uri": "https://localhost:8080/",
          "height": 213
        },
        "id": "mV10o4Vboco4",
        "outputId": "8039954b-9745-430f-cc20-5cfeca87be63"
      },
      "execution_count": 9,
      "outputs": [
        {
          "output_type": "execute_result",
          "data": {
            "text/plain": [
              "'  9  8  7  6  5  4  3  2  1\n",
              "P1-KY-KE-GI-KI-OU-KI-GI-KE-KY\n",
              "P2 * -HI *  *  *  *  * -KA * \n",
              "P3-FU-FU-FU-FU-FU-FU-FU-FU-FU\n",
              "P4 *  *  *  *  *  *  *  *  * \n",
              "P5 *  *  *  *  *  *  *  *  * \n",
              "P6 *  *  *  *  *  *  *  *  * \n",
              "P7+FU+FU+FU+FU+FU+FU+FU+FU+FU\n",
              "P8 * +KA *  *  *  *  * +HI * \n",
              "P9+KY+KE+GI+KI+OU+KI+GI+KE+KY\n",
              "+"
            ],
            "image/svg+xml": "<svg height=\"192.0\" version=\"1.1\" viewBox=\"0 0 230 192\" width=\"230.0\" xmlns=\"http://www.w3.org/2000/svg\" xmlns:xlink=\"http://www.w3.org/1999/xlink\"><defs><g id=\"black-pawn\"><text font-family=\"serif\" font-size=\"17\" text-anchor=\"middle\" x=\"10.5\" y=\"16.5\">&#27497;</text></g><g id=\"black-lance\"><text font-family=\"serif\" font-size=\"17\" text-anchor=\"middle\" x=\"10.5\" y=\"16.5\">&#39321;</text></g><g id=\"black-knight\"><text font-family=\"serif\" font-size=\"17\" text-anchor=\"middle\" x=\"10.5\" y=\"16.5\">&#26690;</text></g><g id=\"black-silver\"><text font-family=\"serif\" font-size=\"17\" text-anchor=\"middle\" x=\"10.5\" y=\"16.5\">&#37504;</text></g><g id=\"black-gold\"><text font-family=\"serif\" font-size=\"17\" text-anchor=\"middle\" x=\"10.5\" y=\"16.5\">&#37329;</text></g><g id=\"black-bishop\"><text font-family=\"serif\" font-size=\"17\" text-anchor=\"middle\" x=\"10.5\" y=\"16.5\">&#35282;</text></g><g id=\"black-rook\"><text font-family=\"serif\" font-size=\"17\" text-anchor=\"middle\" x=\"10.5\" y=\"16.5\">&#39131;</text></g><g id=\"black-king\"><text font-family=\"serif\" font-size=\"17\" text-anchor=\"middle\" x=\"10.5\" y=\"16.5\">&#29579;</text></g><g id=\"black-pro-pawn\"><text font-family=\"serif\" font-size=\"17\" text-anchor=\"middle\" x=\"10.5\" y=\"16.5\">&#12392;</text></g><g id=\"black-pro-lance\" transform=\"scale(1.0, 0.5)\"><text font-family=\"serif\" font-size=\"17\" text-anchor=\"middle\" x=\"10.5\" y=\"18\">&#25104;</text><text font-family=\"serif\" font-size=\"17\" text-anchor=\"middle\" x=\"10.5\" y=\"34\">&#39321;</text></g><g id=\"black-pro-knight\" transform=\"scale(1.0, 0.5)\"><text font-family=\"serif\" font-size=\"17\" text-anchor=\"middle\" x=\"10.5\" y=\"18\">&#25104;</text><text font-family=\"serif\" font-size=\"17\" text-anchor=\"middle\" x=\"10.5\" y=\"34\">&#26690;</text></g><g id=\"black-pro-silver\" transform=\"scale(1.0, 0.5)\"><text font-family=\"serif\" font-size=\"17\" text-anchor=\"middle\" x=\"10.5\" y=\"18\">&#25104;</text><text font-family=\"serif\" font-size=\"17\" text-anchor=\"middle\" x=\"10.5\" y=\"34\">&#37504;</text></g><g id=\"black-horse\"><text font-family=\"serif\" font-size=\"17\" text-anchor=\"middle\" x=\"10.5\" y=\"16.5\">&#39340;</text></g><g id=\"black-dragon\"><text font-family=\"serif\" font-size=\"17\" text-anchor=\"middle\" x=\"10.5\" y=\"16.5\">&#40845;</text></g><g id=\"white-pawn\" transform=\"rotate(180)\"><text font-family=\"serif\" font-size=\"17\" text-anchor=\"middle\" x=\"-10.5\" y=\"-3.5\">&#27497;</text></g><g id=\"white-lance\" transform=\"rotate(180)\"><text font-family=\"serif\" font-size=\"17\" text-anchor=\"middle\" x=\"-10.5\" y=\"-3.5\">&#39321;</text></g><g id=\"white-knight\" transform=\"rotate(180)\"><text font-family=\"serif\" font-size=\"17\" text-anchor=\"middle\" x=\"-10.5\" y=\"-3.5\">&#26690;</text></g><g id=\"white-silver\" transform=\"rotate(180)\"><text font-family=\"serif\" font-size=\"17\" text-anchor=\"middle\" x=\"-10.5\" y=\"-3.5\">&#37504;</text></g><g id=\"white-gold\" transform=\"rotate(180)\"><text font-family=\"serif\" font-size=\"17\" text-anchor=\"middle\" x=\"-10.5\" y=\"-3.5\">&#37329;</text></g><g id=\"white-bishop\" transform=\"rotate(180)\"><text font-family=\"serif\" font-size=\"17\" text-anchor=\"middle\" x=\"-10.5\" y=\"-3.5\">&#35282;</text></g><g id=\"white-rook\" transform=\"rotate(180)\"><text font-family=\"serif\" font-size=\"17\" text-anchor=\"middle\" x=\"-10.5\" y=\"-3.5\">&#39131;</text></g><g id=\"white-king\" transform=\"rotate(180)\"><text font-family=\"serif\" font-size=\"17\" text-anchor=\"middle\" x=\"-10.5\" y=\"-3.5\">&#29579;</text></g><g id=\"white-pro-pawn\" transform=\"rotate(180)\"><text font-family=\"serif\" font-size=\"17\" text-anchor=\"middle\" x=\"-10.5\" y=\"-3.5\">&#12392;</text></g><g id=\"white-pro-lance\" transform=\"scale(1.0, 0.5) rotate(180)\"><text font-family=\"serif\" font-size=\"17\" text-anchor=\"middle\" x=\"-10.5\" y=\"-22\">&#25104;</text><text font-family=\"serif\" font-size=\"17\" text-anchor=\"middle\" x=\"-10.5\" y=\"-6\">&#39321;</text></g><g id=\"white-pro-knight\" transform=\"scale(1.0, 0.5) rotate(180)\"><text font-family=\"serif\" font-size=\"17\" text-anchor=\"middle\" x=\"-10.5\" y=\"-22\">&#25104;</text><text font-family=\"serif\" font-size=\"17\" text-anchor=\"middle\" x=\"-10.5\" y=\"-6\">&#26690;</text></g><g id=\"white-pro-silver\" transform=\"scale(1.0, 0.5) rotate(180)\"><text font-family=\"serif\" font-size=\"17\" text-anchor=\"middle\" x=\"-10.5\" y=\"-22\">&#25104;</text><text font-family=\"serif\" font-size=\"17\" text-anchor=\"middle\" x=\"-10.5\" y=\"-6\">&#37504;</text></g><g id=\"white-horse\" transform=\"rotate(180)\"><text font-family=\"serif\" font-size=\"17\" text-anchor=\"middle\" x=\"-10.5\" y=\"-3.5\">&#39340;</text></g><g id=\"white-dragon\" transform=\"rotate(180)\"><text font-family=\"serif\" font-size=\"17\" text-anchor=\"middle\" x=\"-10.5\" y=\"-3.5\">&#40845;</text></g></defs><g stroke=\"black\"><rect fill=\"none\" height=\"181\" stroke-width=\"1.5\" width=\"181\" x=\"20\" y=\"10\" /><line stroke-width=\"1.0\" x1=\"20.5\" x2=\"200.5\" y1=\"30.5\" y2=\"30.5\" /><line stroke-width=\"1.0\" x1=\"20.5\" x2=\"200.5\" y1=\"50.5\" y2=\"50.5\" /><line stroke-width=\"1.0\" x1=\"20.5\" x2=\"200.5\" y1=\"70.5\" y2=\"70.5\" /><line stroke-width=\"1.0\" x1=\"20.5\" x2=\"200.5\" y1=\"90.5\" y2=\"90.5\" /><line stroke-width=\"1.0\" x1=\"20.5\" x2=\"200.5\" y1=\"110.5\" y2=\"110.5\" /><line stroke-width=\"1.0\" x1=\"20.5\" x2=\"200.5\" y1=\"130.5\" y2=\"130.5\" /><line stroke-width=\"1.0\" x1=\"20.5\" x2=\"200.5\" y1=\"150.5\" y2=\"150.5\" /><line stroke-width=\"1.0\" x1=\"20.5\" x2=\"200.5\" y1=\"170.5\" y2=\"170.5\" /><line stroke-width=\"1.0\" x1=\"40.5\" x2=\"40.5\" y1=\"10.5\" y2=\"190.5\" /><line stroke-width=\"1.0\" x1=\"60.5\" x2=\"60.5\" y1=\"10.5\" y2=\"190.5\" /><line stroke-width=\"1.0\" x1=\"80.5\" x2=\"80.5\" y1=\"10.5\" y2=\"190.5\" /><line stroke-width=\"1.0\" x1=\"100.5\" x2=\"100.5\" y1=\"10.5\" y2=\"190.5\" /><line stroke-width=\"1.0\" x1=\"120.5\" x2=\"120.5\" y1=\"10.5\" y2=\"190.5\" /><line stroke-width=\"1.0\" x1=\"140.5\" x2=\"140.5\" y1=\"10.5\" y2=\"190.5\" /><line stroke-width=\"1.0\" x1=\"160.5\" x2=\"160.5\" y1=\"10.5\" y2=\"190.5\" /><line stroke-width=\"1.0\" x1=\"180.5\" x2=\"180.5\" y1=\"10.5\" y2=\"190.5\" /></g><g><text font-family=\"serif\" font-size=\"9\" text-anchor=\"middle\" x=\"30.5\" y=\"8\">9</text><text font-family=\"serif\" font-size=\"9\" text-anchor=\"middle\" x=\"50.5\" y=\"8\">8</text><text font-family=\"serif\" font-size=\"9\" text-anchor=\"middle\" x=\"70.5\" y=\"8\">7</text><text font-family=\"serif\" font-size=\"9\" text-anchor=\"middle\" x=\"90.5\" y=\"8\">6</text><text font-family=\"serif\" font-size=\"9\" text-anchor=\"middle\" x=\"110.5\" y=\"8\">5</text><text font-family=\"serif\" font-size=\"9\" text-anchor=\"middle\" x=\"130.5\" y=\"8\">4</text><text font-family=\"serif\" font-size=\"9\" text-anchor=\"middle\" x=\"150.5\" y=\"8\">3</text><text font-family=\"serif\" font-size=\"9\" text-anchor=\"middle\" x=\"170.5\" y=\"8\">2</text><text font-family=\"serif\" font-size=\"9\" text-anchor=\"middle\" x=\"190.5\" y=\"8\">1</text><text font-family=\"serif\" font-size=\"9\" x=\"203.5\" y=\"23\">&#19968;</text><text font-family=\"serif\" font-size=\"9\" x=\"203.5\" y=\"43\">&#20108;</text><text font-family=\"serif\" font-size=\"9\" x=\"203.5\" y=\"63\">&#19977;</text><text font-family=\"serif\" font-size=\"9\" x=\"203.5\" y=\"83\">&#22235;</text><text font-family=\"serif\" font-size=\"9\" x=\"203.5\" y=\"103\">&#20116;</text><text font-family=\"serif\" font-size=\"9\" x=\"203.5\" y=\"123\">&#20845;</text><text font-family=\"serif\" font-size=\"9\" x=\"203.5\" y=\"143\">&#19971;</text><text font-family=\"serif\" font-size=\"9\" x=\"203.5\" y=\"163\">&#20843;</text><text font-family=\"serif\" font-size=\"9\" x=\"203.5\" y=\"183\">&#20061;</text></g><use x=\"180.5\" xlink:href=\"#white-lance\" y=\"10.5\" /><use x=\"180.5\" xlink:href=\"#white-pawn\" y=\"50.5\" /><use x=\"180.5\" xlink:href=\"#black-pawn\" y=\"130.5\" /><use x=\"180.5\" xlink:href=\"#black-lance\" y=\"170.5\" /><use x=\"160.5\" xlink:href=\"#white-knight\" y=\"10.5\" /><use x=\"160.5\" xlink:href=\"#white-bishop\" y=\"30.5\" /><use x=\"160.5\" xlink:href=\"#white-pawn\" y=\"50.5\" /><use x=\"160.5\" xlink:href=\"#black-pawn\" y=\"130.5\" /><use x=\"160.5\" xlink:href=\"#black-rook\" y=\"150.5\" /><use x=\"160.5\" xlink:href=\"#black-knight\" y=\"170.5\" /><use x=\"140.5\" xlink:href=\"#white-silver\" y=\"10.5\" /><use x=\"140.5\" xlink:href=\"#white-pawn\" y=\"50.5\" /><use x=\"140.5\" xlink:href=\"#black-pawn\" y=\"130.5\" /><use x=\"140.5\" xlink:href=\"#black-silver\" y=\"170.5\" /><use x=\"120.5\" xlink:href=\"#white-gold\" y=\"10.5\" /><use x=\"120.5\" xlink:href=\"#white-pawn\" y=\"50.5\" /><use x=\"120.5\" xlink:href=\"#black-pawn\" y=\"130.5\" /><use x=\"120.5\" xlink:href=\"#black-gold\" y=\"170.5\" /><use x=\"100.5\" xlink:href=\"#white-king\" y=\"10.5\" /><use x=\"100.5\" xlink:href=\"#white-pawn\" y=\"50.5\" /><use x=\"100.5\" xlink:href=\"#black-pawn\" y=\"130.5\" /><use x=\"100.5\" xlink:href=\"#black-king\" y=\"170.5\" /><use x=\"80.5\" xlink:href=\"#white-gold\" y=\"10.5\" /><use x=\"80.5\" xlink:href=\"#white-pawn\" y=\"50.5\" /><use x=\"80.5\" xlink:href=\"#black-pawn\" y=\"130.5\" /><use x=\"80.5\" xlink:href=\"#black-gold\" y=\"170.5\" /><use x=\"60.5\" xlink:href=\"#white-silver\" y=\"10.5\" /><use x=\"60.5\" xlink:href=\"#white-pawn\" y=\"50.5\" /><use x=\"60.5\" xlink:href=\"#black-pawn\" y=\"130.5\" /><use x=\"60.5\" xlink:href=\"#black-silver\" y=\"170.5\" /><use x=\"40.5\" xlink:href=\"#white-knight\" y=\"10.5\" /><use x=\"40.5\" xlink:href=\"#white-rook\" y=\"30.5\" /><use x=\"40.5\" xlink:href=\"#white-pawn\" y=\"50.5\" /><use x=\"40.5\" xlink:href=\"#black-pawn\" y=\"130.5\" /><use x=\"40.5\" xlink:href=\"#black-bishop\" y=\"150.5\" /><use x=\"40.5\" xlink:href=\"#black-knight\" y=\"170.5\" /><use x=\"20.5\" xlink:href=\"#white-lance\" y=\"10.5\" /><use x=\"20.5\" xlink:href=\"#white-pawn\" y=\"50.5\" /><use x=\"20.5\" xlink:href=\"#black-pawn\" y=\"130.5\" /><use x=\"20.5\" xlink:href=\"#black-lance\" y=\"170.5\" /><text font-family=\"serif\" font-size=\"14\" x=\"214\" y=\"176\">&#25163;</text><text font-family=\"serif\" font-size=\"14\" x=\"214\" y=\"162\">&#20808;</text><text font-family=\"serif\" font-size=\"14\" x=\"214\" y=\"148\">&#9751;</text><text font-family=\"serif\" font-size=\"14\" transform=\"rotate(180)\" x=\"-16\" y=\"-24\">&#25163;</text><text font-family=\"serif\" font-size=\"14\" transform=\"rotate(180)\" x=\"-16\" y=\"-38\">&#24460;</text><text font-family=\"serif\" font-size=\"14\" transform=\"rotate(180)\" x=\"-16\" y=\"-52\">&#9750;</text></svg>"
          },
          "metadata": {},
          "execution_count": 9
        }
      ]
    },
    {
      "cell_type": "code",
      "source": [
        "board.piece_type(cshogi.A1)"
      ],
      "metadata": {
        "colab": {
          "base_uri": "https://localhost:8080/"
        },
        "id": "GGpGFvhTodND",
        "outputId": "00f33eaf-f30a-43f7-a64b-61242e30c0d3"
      },
      "execution_count": 10,
      "outputs": [
        {
          "output_type": "execute_result",
          "data": {
            "text/plain": [
              "2"
            ]
          },
          "metadata": {},
          "execution_count": 10
        }
      ]
    },
    {
      "cell_type": "code",
      "source": [
        "board.pieces[cshogi.A1]"
      ],
      "metadata": {
        "colab": {
          "base_uri": "https://localhost:8080/"
        },
        "id": "GcaPz0EooiuL",
        "outputId": "0779e7d8-b5cc-41a1-e4f2-c60edae6f442"
      },
      "execution_count": 11,
      "outputs": [
        {
          "output_type": "execute_result",
          "data": {
            "text/plain": [
              "18"
            ]
          },
          "metadata": {},
          "execution_count": 11
        }
      ]
    },
    {
      "cell_type": "code",
      "source": [
        "board.pieces_in_hand[cshogi.BLACK][cshogi.HPAWN]"
      ],
      "metadata": {
        "colab": {
          "base_uri": "https://localhost:8080/"
        },
        "id": "2Hrm7WVsoqXo",
        "outputId": "9fc50f77-00a6-49c7-ff96-a4805189cad7"
      },
      "execution_count": 12,
      "outputs": [
        {
          "output_type": "execute_result",
          "data": {
            "text/plain": [
              "0"
            ]
          },
          "metadata": {},
          "execution_count": 12
        }
      ]
    },
    {
      "cell_type": "code",
      "source": [
        "mv16 = cshogi.move16(move)\n",
        "move = board.move_from_move16(mv16)"
      ],
      "metadata": {
        "id": "Jq9QgOizo3eb"
      },
      "execution_count": 16,
      "outputs": []
    },
    {
      "cell_type": "code",
      "source": [
        "!git clone https://github.com/TadaoYamaoka/python-dlshogi2\n",
        "%cd python-dlshogi2/\n",
        "!pip install -e ."
      ],
      "metadata": {
        "colab": {
          "base_uri": "https://localhost:8080/"
        },
        "id": "ZfQ6DwcspFsn",
        "outputId": "3535ec69-a19f-453f-b5c9-eeb2672ac0dc"
      },
      "execution_count": 19,
      "outputs": [
        {
          "output_type": "stream",
          "name": "stdout",
          "text": [
            "Cloning into 'python-dlshogi2'...\n",
            "remote: Enumerating objects: 209, done.\u001b[K\n",
            "remote: Counting objects: 100% (16/16), done.\u001b[K\n",
            "remote: Total 209 (delta 15), reused 15 (delta 15), pack-reused 193\u001b[K\n",
            "Receiving objects: 100% (209/209), 313.81 MiB | 34.83 MiB/s, done.\n",
            "Resolving deltas: 100% (112/112), done.\n",
            "Checking out files: 100% (23/23), done.\n",
            "/content/python-dlshogi2/python-dlshogi2\n",
            "Looking in indexes: https://pypi.org/simple, https://us-python.pkg.dev/colab-wheels/public/simple/\n",
            "Obtaining file:///content/python-dlshogi2/python-dlshogi2\n",
            "Installing collected packages: python-dlshogi2\n",
            "  Running setup.py develop for python-dlshogi2\n",
            "Successfully installed python-dlshogi2-0.0.0\n"
          ]
        }
      ]
    },
    {
      "cell_type": "markdown",
      "source": [
        "将棋 AI モデルの実装"
      ],
      "metadata": {
        "id": "qIAmwnAtqLNw"
      }
    },
    {
      "cell_type": "code",
      "source": [
        "def make_input_features(board, features):\n",
        "  #入力特徴量を0に初期化\n",
        "  features.fill(0)\n",
        "\n",
        "  if board.turn == cshogi.BLACK:\n",
        "    board.piece_plains(features)\n",
        "    pieces_in_hand = board.pieces_in_hand\n",
        "  else:\n",
        "    board.piece_planes_rotate(features)\n",
        "    pieces_in_hand = reversed(board.pieces_in_hand)\n",
        "  \n",
        "  i = 28\n",
        "  for hands in pieces_in_hand:\n",
        "    for num, max_num, in zip(hands, cshogi.MAX_PIECES_IN_HAND):\n",
        "      features[i:i+num].fill(1)\n",
        "      i += max_num"
      ],
      "metadata": {
        "id": "WXzXf72LqPlZ"
      },
      "execution_count": 20,
      "outputs": []
    },
    {
      "cell_type": "code",
      "source": [
        "def make_move_label(move, color):\n",
        "  if not cshogi.move_is_drop(move):\n",
        "    to_sq = cshogi.move_to(move)\n",
        "    from_sq = cshogi.move_from(move)\n",
        "\n",
        "    #後手の場合は盤面を回転\n",
        "    if color == WHITE:\n",
        "      to_sq = 80 - to_sq\n",
        "      from_sq = 80 - from_sq\n",
        "\n",
        "    # 移動方向\n",
        "    to_y, to_x = divmod(to_sq, 9)\n",
        "    from_y, from_x = divmod(from_sq, 9)\n",
        "    dir_x = to_x - from_x\n",
        "    dir_y = to_y - from_y\n",
        "    if dir_y < 0:\n",
        "      if dir_x == 0:\n",
        "        move_direction = UP\n",
        "      elif dir_x < 0:\n",
        "        move_direction = UP_LEFT\n",
        "      else:  # dir_x > 0\n",
        "        move_direction = UP_RIGHT\n",
        "\n",
        "    elif dir_y == 0:\n",
        "      if dir_x < 0:\n",
        "        move_direction = LEFT\n",
        "      else:  # dir_x > 0\n",
        "        move_direction = RIGHT\n",
        "\n",
        "    elif dir_y > 0:\n",
        "      if dir_x == 0:\n",
        "        move_direction = DOWN\n",
        "      elif dir_x < 0:\n",
        "        move_direction = DOWN_LEFT\n",
        "      else:  # dir_x > 0\n",
        "        move_direction = DOWN_RIGHT\n",
        "\n",
        "    else:  # dir_y == -2\n",
        "      if dir_x == -1:\n",
        "        move_direction = UP2_LEFT\n",
        "      else:  # dir_x == 1\n",
        "        move_direction = UP2_RIGH"
      ],
      "metadata": {
        "id": "YSFDos-ysmdZ"
      },
      "execution_count": 23,
      "outputs": []
    },
    {
      "cell_type": "code",
      "source": [],
      "metadata": {
        "id": "d7VcSKPTv_ch"
      },
      "execution_count": null,
      "outputs": []
    }
  ]
}